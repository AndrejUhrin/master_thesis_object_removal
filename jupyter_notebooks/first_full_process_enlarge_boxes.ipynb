{
 "cells": [
  {
   "cell_type": "code",
   "execution_count": null,
   "id": "0955a75d",
   "metadata": {},
   "outputs": [],
   "source": [
    "import json, tempfile, shutil\n",
    "from pathlib import Path\n",
    "import sys\n",
    "import cv2\n",
    "import numpy as np\n",
    "import torch\n",
    "from PIL import Image, ImageFont, ImageDraw\n",
    "from IPython.display import display\n",
    "\n",
    "project_root = Path(\".\").resolve().parent  \n",
    "sys.path.insert(0, str(project_root))\n",
    "\n",
    "from utils.owl   import load_owl, detect_with_owl\n",
    "from utils.sam   import load_sam, segment_with_sam, post_process_sam_masks\n",
    "from utils.mask  import overlay_masks_on_image, create_black_white_mask\n",
    "from utils.box_mask import draw_annotated,enlarge_box\n",
    "from utils.resize import resize_long_side\n",
    "from lama.runner import run_lama"
   ]
  },
  {
   "cell_type": "code",
   "execution_count": null,
   "id": "3cc6d003",
   "metadata": {},
   "outputs": [],
   "source": [
    "image_path = Path(\"../pipeline_optimization_dataset/1SIka2FSC_tE6_94GW3GsRvb-Gi5CA8wa__Küche_Wohnung1.jpg\")  \n",
    "image = Image.open(image_path).convert(\"RGB\")\n",
    "w, h = image.size"
   ]
  },
  {
   "cell_type": "code",
   "execution_count": null,
   "id": "5d98f2da",
   "metadata": {},
   "outputs": [],
   "source": [
    "owl_thresh  = 0.30\n",
    "target_long = 2048\n",
    "box_scale = 1.1"
   ]
  },
  {
   "cell_type": "code",
   "execution_count": null,
   "id": "a654dd3f",
   "metadata": {},
   "outputs": [],
   "source": [
    "processor_owl, model_owl = load_owl()\n",
    "processor_sam, model_sam = load_sam()"
   ]
  },
  {
   "cell_type": "code",
   "execution_count": null,
   "id": "08902f24",
   "metadata": {},
   "outputs": [],
   "source": [
    "text_labels = [[\n",
    "    \"a house number\", \"a license plate\", \"person\", \"a face\",\n",
    "    \"a religious symbol\", \"a political symbol\", \"a cat\", \"a dog\",\n",
    "    \"a calendar\", \"a paper\", \"a framed picture\", \"a picture\",\n",
    "    \"a poster board\", \"a name\", \"a sex toy\", \"a nude image\",\n",
    "]]\n",
    "\n",
    "font = ImageFont.truetype(\"/Library/Fonts/Arial.ttf\", size=50)"
   ]
  },
  {
   "cell_type": "code",
   "execution_count": null,
   "id": "d6aa38b5",
   "metadata": {},
   "outputs": [],
   "source": [
    "boxes_p, scores, labels = detect_with_owl(image, text_labels, processor_owl, model_owl, threshold=owl_thresh)\n",
    "raw_boxes = [b.tolist() for b in boxes_p]"
   ]
  },
  {
   "cell_type": "code",
   "execution_count": null,
   "id": "9867852f",
   "metadata": {},
   "outputs": [],
   "source": [
    "post_enl = [enlarge_box(box=b, scale=box_scale, img_w=w, img_h=h) for b in raw_boxes]\n",
    "annotated_enl = draw_annotated(image.copy(), post_enl, [float(s.item()) for s in scores], labels, font=font)\n",
    "display(annotated_enl)\n"
   ]
  },
  {
   "cell_type": "code",
   "execution_count": null,
   "id": "ed2956b4",
   "metadata": {},
   "outputs": [],
   "source": [
    "tb = torch.tensor(post_enl, dtype=torch.float32).unsqueeze(0)\n",
    "outs, ins = segment_with_sam(image, tb, processor_sam, model_sam)\n",
    "masks = post_process_sam_masks(outs, processor_sam, ins)[0]"
   ]
  },
  {
   "cell_type": "code",
   "execution_count": null,
   "id": "f630011b",
   "metadata": {},
   "outputs": [],
   "source": [
    "overlay = overlay_masks_on_image(image, masks, overlay_color=(255, 0, 0, 128), dilation_px=0)\n",
    "display(overlay)"
   ]
  },
  {
   "cell_type": "code",
   "execution_count": null,
   "id": "34e3d88e",
   "metadata": {},
   "outputs": [],
   "source": [
    "bw_mask = create_black_white_mask(\n",
    "    masks, threshold=0.5, combine=True, dilation_px=0\n",
    ")\n",
    "display(bw_mask)"
   ]
  },
  {
   "cell_type": "code",
   "execution_count": null,
   "id": "0532a3a3",
   "metadata": {},
   "outputs": [],
   "source": [
    "img_np = np.array(image)\n",
    "img_rs  = resize_long_side(img_np, target_long)\n",
    "mask_rs = resize_long_side(np.array(bw_mask.convert(\"L\")), target_long,nearest=True)"
   ]
  },
  {
   "cell_type": "code",
   "execution_count": null,
   "id": "f30d4c44",
   "metadata": {},
   "outputs": [],
   "source": [
    "with tempfile.TemporaryDirectory() as tmpdir:\n",
    "    tmpdir = Path(tmpdir)\n",
    "    tmp_img  = tmpdir / \"img.png\"\n",
    "    tmp_mask = tmpdir / \"mask.png\"\n",
    "    Image.fromarray(img_rs).save(tmp_img, \"PNG\")\n",
    "    cv2.imwrite(str(tmp_mask), mask_rs)\n",
    "\n",
    "    lama_model_dir = Path(\"../lama/big-lama\")\n",
    "\n",
    "    try:\n",
    "        result_png = run_lama(\n",
    "            image_path=tmp_img,\n",
    "            mask_path=tmp_mask,\n",
    "            model_dir=lama_model_dir,\n",
    "            out_dir=tmpdir,\n",
    "        )\n",
    "        result_img = Image.open(result_png).convert(\"RGB\")\n",
    "        display(result_img)\n",
    "    except Exception as e:\n",
    "        print(f\"→ LaMa failed: {e}\")"
   ]
  }
 ],
 "metadata": {
  "kernelspec": {
   "display_name": "lama_object_removal",
   "language": "python",
   "name": "python3"
  },
  "language_info": {
   "codemirror_mode": {
    "name": "ipython",
    "version": 3
   },
   "file_extension": ".py",
   "mimetype": "text/x-python",
   "name": "python",
   "nbconvert_exporter": "python",
   "pygments_lexer": "ipython3",
   "version": "3.9.19"
  }
 },
 "nbformat": 4,
 "nbformat_minor": 5
}

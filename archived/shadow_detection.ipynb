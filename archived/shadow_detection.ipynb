{
 "cells": [
  {
   "cell_type": "code",
   "execution_count": null,
   "id": "bfdd6b08",
   "metadata": {},
   "outputs": [],
   "source": [
    "import cv2\n",
    "import numpy as np\n",
    "from PIL import Image\n",
    "from IPython.display import display"
   ]
  },
  {
   "cell_type": "code",
   "execution_count": null,
   "id": "278809d7",
   "metadata": {},
   "outputs": [],
   "source": [
    "img_path  = '../pipeline_optimization_dataset/1f5GmaeVFWa2mqhh2V8VucQ1du9vyqllF__Einbauküche_.jpg'   \n",
    "mask_path = '../results_pipeline_optimization_dataset/results_final_optimization_run/segmentation_masks_bw_dilation0/1f5GmaeVFWa2mqhh2V8VucQ1du9vyqllF__Einbauküche_.png'   \n",
    "\n",
    "search_px = 140     \n",
    "delta = 2       \n",
    "min_touch = 10       \n",
    "safety_px = 2  "
   ]
  },
  {
   "cell_type": "markdown",
   "id": "79d41196",
   "metadata": {},
   "source": [
    "## Defines the `expand_mask_shadow_relative` function, which:\n",
    "- Computes a ring of interest around the existing mask  \n",
    "- Finds the local median brightness (“wall” level)  \n",
    "- Selects darker pixels (potential shadows) within that ring  \n",
    "- Keeps only shadow regions that touch the object border  \n",
    "- Optionally smooths the result with a small dilation "
   ]
  },
  {
   "cell_type": "code",
   "execution_count": null,
   "id": "e2ce9fe6",
   "metadata": {},
   "outputs": [],
   "source": [
    "def expand_mask_shadow_relative(img_gray: np.ndarray, mask_bool: np.ndarray, search_px: int = 80, delta: int = 8, min_touch: int = 3, safety_px: int = 2) -> np.ndarray:\n",
    "\n",
    "    mask_u8 = mask_bool.astype(np.uint8) * 255\n",
    "    \n",
    "    dist = cv2.distanceTransform(255 - mask_u8, cv2.DIST_L2, 5)\n",
    "    roi  = dist <= search_px\n",
    "    if not roi.any():\n",
    "        return mask_bool.copy()\n",
    "    \n",
    "    wall_med = np.median(img_gray[roi])\n",
    "    \n",
    "    shadow_cand = (img_gray < wall_med - delta) & roi\n",
    "    \n",
    "    border = cv2.dilate(mask_u8, None, iterations=min_touch) > 0\n",
    "    _, lbl, _, _ = cv2.connectedComponentsWithStats(\n",
    "        shadow_cand.astype(np.uint8), connectivity=4\n",
    "    )\n",
    "    touching_lbls = np.setdiff1d(np.unique(lbl[border]), 0)\n",
    "    shadow_ok = np.isin(lbl, touching_lbls)\n",
    "    \n",
    "    merged = mask_bool | shadow_ok\n",
    "    if safety_px:\n",
    "        k = cv2.getStructuringElement(cv2.MORPH_ELLIPSE, (safety_px*2+1,)*2)\n",
    "        merged = cv2.dilate(merged.astype(np.uint8), k) > 0\n",
    "    return merged"
   ]
  },
  {
   "cell_type": "code",
   "execution_count": null,
   "id": "e8fe69c3",
   "metadata": {},
   "outputs": [],
   "source": [
    "def overlay_mask(img_bgr: np.ndarray, mask_bool: np.ndarray, alpha: float = 0.45) -> np.ndarray: \n",
    "    overlay = img_bgr.copy()\n",
    "    overlay[mask_bool] = (0, 0, 255)          \n",
    "    blended = cv2.addWeighted(overlay, alpha, img_bgr, 1 - alpha, 0)\n",
    "    return blended[..., ::-1]  "
   ]
  },
  {
   "cell_type": "code",
   "execution_count": null,
   "id": "40a28e08",
   "metadata": {},
   "outputs": [],
   "source": [
    "img_bgr   = cv2.imread(img_path, cv2.IMREAD_COLOR)\n",
    "if img_bgr is None:\n",
    "    raise FileNotFoundError(f\"Cannot open image: {img_path}\")\n",
    "\n",
    "img_gray  = cv2.cvtColor(img_bgr, cv2.COLOR_BGR2GRAY)\n",
    "\n",
    "mask_raw  = cv2.imread(mask_path, cv2.IMREAD_GRAYSCALE)\n",
    "if mask_raw is None:\n",
    "    raise FileNotFoundError(f\"Cannot open mask:  {mask_path}\")\n",
    "\n",
    "mask_bool = mask_raw > 0          \n",
    "\n",
    "print('Image shape :', img_bgr.shape)\n",
    "print('Pixels in original mask:', mask_bool.sum())"
   ]
  },
  {
   "cell_type": "code",
   "execution_count": null,
   "id": "188e6507",
   "metadata": {},
   "outputs": [],
   "source": [
    "expanded_mask = expand_mask_shadow_relative(\n",
    "    img_gray, mask_bool,\n",
    "    search_px=search_px,\n",
    "    delta=delta,\n",
    "    min_touch=min_touch,\n",
    "    safety_px=safety_px\n",
    ")\n",
    "\n",
    "print('Pixels in expanded mask:', expanded_mask.sum())\n",
    "\n",
    "\n",
    "preview_rgb = overlay_mask(img_bgr, expanded_mask)\n",
    "\n",
    "display(Image.fromarray(preview_rgb))"
   ]
  },
  {
   "cell_type": "code",
   "execution_count": null,
   "id": "087f9519",
   "metadata": {},
   "outputs": [],
   "source": []
  }
 ],
 "metadata": {
  "kernelspec": {
   "display_name": "lama_object_removal",
   "language": "python",
   "name": "python3"
  },
  "language_info": {
   "codemirror_mode": {
    "name": "ipython",
    "version": 3
   },
   "file_extension": ".py",
   "mimetype": "text/x-python",
   "name": "python",
   "nbconvert_exporter": "python",
   "pygments_lexer": "ipython3",
   "version": "3.9.19"
  }
 },
 "nbformat": 4,
 "nbformat_minor": 5
}

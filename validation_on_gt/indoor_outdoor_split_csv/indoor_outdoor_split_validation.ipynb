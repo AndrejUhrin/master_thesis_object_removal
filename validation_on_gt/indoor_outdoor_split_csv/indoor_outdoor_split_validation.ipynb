{
 "cells": [
  {
   "cell_type": "code",
   "execution_count": 1,
   "id": "2f3aec2c",
   "metadata": {},
   "outputs": [],
   "source": [
    "import pandas as pd"
   ]
  },
  {
   "cell_type": "code",
   "execution_count": 2,
   "id": "af69fcce",
   "metadata": {},
   "outputs": [],
   "source": [
    "df_groundtruth = pd.read_csv(\"train.csv\")\n",
    "df_prediciton = pd.read_csv(\"../../results_pipeline_optimization_dataset/clip_indoor_outdoor_results/clip_scene_results.csv\")"
   ]
  },
  {
   "cell_type": "code",
   "execution_count": 3,
   "id": "44d5dcf6",
   "metadata": {},
   "outputs": [],
   "source": [
    "df = df_groundtruth.merge(df_prediciton, on=\"image\", how=\"inner\", suffixes=(\"_gt\", \"_pred\"))"
   ]
  },
  {
   "cell_type": "code",
   "execution_count": 4,
   "id": "cf4f7715",
   "metadata": {},
   "outputs": [],
   "source": [
    "df[\"correct\"] = (df[\"scene_gt\"].str.lower() == df[\"scene_pred\"].str.lower())"
   ]
  },
  {
   "cell_type": "code",
   "execution_count": 5,
   "id": "7dfda848",
   "metadata": {},
   "outputs": [],
   "source": [
    "ind_mask = df[\"scene_gt\"].str.lower().eq(\"indoor\")\n",
    "out_mask = df[\"scene_gt\"].str.lower().eq(\"outdoor\")"
   ]
  },
  {
   "cell_type": "code",
   "execution_count": 6,
   "id": "01294906",
   "metadata": {},
   "outputs": [],
   "source": [
    "indoor_correct   = (ind_mask & df[\"correct\"]).sum()\n",
    "indoor_total     = ind_mask.sum()\n",
    "indoor_incorrect = indoor_total - indoor_correct\n",
    "\n",
    "outdoor_correct   = (out_mask & df[\"correct\"]).sum()\n",
    "outdoor_total     = out_mask.sum()\n",
    "outdoor_incorrect = outdoor_total - outdoor_correct"
   ]
  },
  {
   "cell_type": "code",
   "execution_count": 7,
   "id": "521ffc49",
   "metadata": {},
   "outputs": [
    {
     "name": "stdout",
     "output_type": "stream",
     "text": [
      "Indoor  - correct: 296, incorrect: 1\n",
      "Outdoor - correct: 149, incorrect: 0\n"
     ]
    }
   ],
   "source": [
    "print(f\"Indoor  - correct: {indoor_correct}, incorrect: {indoor_incorrect}\")\n",
    "print(f\"Outdoor - correct: {outdoor_correct}, incorrect: {outdoor_incorrect}\")"
   ]
  }
 ],
 "metadata": {
  "kernelspec": {
   "display_name": "lama_object_removal",
   "language": "python",
   "name": "python3"
  },
  "language_info": {
   "codemirror_mode": {
    "name": "ipython",
    "version": 3
   },
   "file_extension": ".py",
   "mimetype": "text/x-python",
   "name": "python",
   "nbconvert_exporter": "python",
   "pygments_lexer": "ipython3",
   "version": "3.9.19"
  }
 },
 "nbformat": 4,
 "nbformat_minor": 5
}
